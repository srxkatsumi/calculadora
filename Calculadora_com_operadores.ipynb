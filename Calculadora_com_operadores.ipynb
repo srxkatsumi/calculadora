{
 "cells": [
  {
   "cell_type": "markdown",
   "metadata": {},
   "source": [
    "### **Calculadora com operadores**"
   ]
  },
  {
   "cell_type": "markdown",
   "metadata": {},
   "source": [
    "1 - Crie um programa que solicite dois valores numéricos à pessoa usuária e imprima a soma dos dois valores.\n",
    "\n",
    "1 - Create a program that requests two numerical values from the user and prints the sum of the two values."
   ]
  },
  {
   "cell_type": "code",
   "execution_count": 1,
   "metadata": {},
   "outputs": [],
   "source": [
    "value_1 = float(input('Digite a 1° valor: '))\n",
    "value_2 = float(input('Digite a 2° valor: '))"
   ]
  },
  {
   "cell_type": "code",
   "execution_count": 2,
   "metadata": {},
   "outputs": [
    {
     "name": "stdout",
     "output_type": "stream",
     "text": [
      "10.0\n"
     ]
    }
   ],
   "source": [
    "print(value_1 + value_2)"
   ]
  },
  {
   "cell_type": "markdown",
   "metadata": {},
   "source": [
    "2 - Crie um programa que solicite três valores numéricos à pessoa usuária e imprima a soma dos três valores.\n",
    "\n",
    "2 - Create a program that requests three numerical values from the user and prints the sum of the three values."
   ]
  },
  {
   "cell_type": "code",
   "execution_count": 3,
   "metadata": {},
   "outputs": [],
   "source": [
    "value_1 = float(input('Digite a 1° valor: '))\n",
    "value_2 = float(input('Digite a 2° valor: '))\n",
    "value_3 = float(input('Digite a 3° valor: '))"
   ]
  },
  {
   "cell_type": "code",
   "execution_count": 4,
   "metadata": {},
   "outputs": [
    {
     "name": "stdout",
     "output_type": "stream",
     "text": [
      "18.0\n"
     ]
    }
   ],
   "source": [
    "print(value_1 + value_2 + value_3)"
   ]
  },
  {
   "cell_type": "markdown",
   "metadata": {},
   "source": [
    "3 - Crie um programa que solicite dois valores numéricos à pessoa usuária e imprima a subtração do primeiro pelo o segundo valor.\n",
    "\n",
    "3 - Create a program that asks the user for two numerical values and prints the subtraction of the first value from the second."
   ]
  },
  {
   "cell_type": "code",
   "execution_count": 5,
   "metadata": {},
   "outputs": [],
   "source": [
    "value_1 = float(input('Digite a 1° valor: '))\n",
    "value_2 = float(input('Digite a 2° valor: '))"
   ]
  },
  {
   "cell_type": "code",
   "execution_count": 6,
   "metadata": {},
   "outputs": [
    {
     "name": "stdout",
     "output_type": "stream",
     "text": [
      "1.0\n"
     ]
    }
   ],
   "source": [
    "print(value_1 - value_2)"
   ]
  },
  {
   "cell_type": "markdown",
   "metadata": {},
   "source": [
    "4 - Crie um programa que solicite dois valores numéricos à pessoa usuária e imprima a multiplicação dos dois valores.\n",
    "\n",
    "4 - Create a program that requests two numerical values from the user and prints the multiplication of the two values."
   ]
  },
  {
   "cell_type": "code",
   "execution_count": 7,
   "metadata": {},
   "outputs": [],
   "source": [
    "value_1 = float(input('Digite a 1° valor: '))\n",
    "value_2 = float(input('Digite a 2° valor: '))"
   ]
  },
  {
   "cell_type": "code",
   "execution_count": 8,
   "metadata": {},
   "outputs": [
    {
     "name": "stdout",
     "output_type": "stream",
     "text": [
      "18.0\n"
     ]
    }
   ],
   "source": [
    "print(value_1 * value_2)"
   ]
  },
  {
   "cell_type": "markdown",
   "metadata": {},
   "source": [
    "5 - Crie um programa que solicite dois valores numéricos, um numerador e um denominador, e realize a divisão entre os dois valores. Deixe claro que o valor do denominador não pode ser 0.\n",
    "\n",
    "5 - Create a program that requests two numerical values, a numerator and a denominator, and performs the division between the two values. Make it clear that the value of the denominator cannot be 0.\n",
    "\n"
   ]
  },
  {
   "cell_type": "code",
   "execution_count": 18,
   "metadata": {},
   "outputs": [],
   "source": [
    "value_1 = float(input(\"Primeiro número:\"))\n",
    "value_2 = float(input(\"Segundo número:\"))\n"
   ]
  },
  {
   "cell_type": "code",
   "execution_count": 19,
   "metadata": {},
   "outputs": [
    {
     "name": "stdout",
     "output_type": "stream",
     "text": [
      "2.3333333333333335\n"
     ]
    }
   ],
   "source": [
    "print(value_1/value_2)"
   ]
  },
  {
   "cell_type": "markdown",
   "metadata": {},
   "source": [
    "6 - Crie um programa que solicite dois valores numéricos, um operador e uma potência, e realize a exponenciação entre esses dois valores.\n",
    "\n",
    "6 - Create a program that asks for two numerical values, an operator and a power, and performs the exponentiation between these two values.\n",
    "\n"
   ]
  },
  {
   "cell_type": "code",
   "execution_count": 14,
   "metadata": {},
   "outputs": [],
   "source": [
    "value_1 = float(input(\"Primeiro número:\"))\n",
    "value_2 = float(input(\"Segundo número:\"))"
   ]
  },
  {
   "cell_type": "code",
   "execution_count": 15,
   "metadata": {},
   "outputs": [
    {
     "name": "stdout",
     "output_type": "stream",
     "text": [
      "36.0\n"
     ]
    }
   ],
   "source": [
    "print(value_1**value_2)"
   ]
  },
  {
   "cell_type": "markdown",
   "metadata": {},
   "source": [
    "7 - Crie um programa que solicite dois valores numéricos, um numerador e um denominador e realize a divisão inteira entre os dois valores. Deixe claro que o valor do denominador não pode ser 0.\n",
    "\n",
    "7 - Create a program that asks for two numerical values, a numerator and a denominator, and performs integer division between the two values. Make it clear that the denominator value cannot be 0.\n",
    "\n"
   ]
  },
  {
   "cell_type": "code",
   "execution_count": 16,
   "metadata": {},
   "outputs": [],
   "source": [
    "value_1 = float(input(\"Primeiro número:\"))\n",
    "value_2 = float(input(\"Segundo número:\"))"
   ]
  },
  {
   "cell_type": "code",
   "execution_count": 17,
   "metadata": {},
   "outputs": [
    {
     "name": "stdout",
     "output_type": "stream",
     "text": [
      "2.0\n"
     ]
    }
   ],
   "source": [
    "print(value_1//value_2)"
   ]
  },
  {
   "cell_type": "markdown",
   "metadata": {},
   "source": [
    "8 - Crie um programa que solicite dois valores numéricos, um numerador e um denominador, e retorne o resto da divisão entre os dois valores. Deixe claro que o valor do denominador não pode ser 0.\n",
    "\n",
    "8 - Create a program that asks for two numerical values, a numerator and a denominator, and returns the remainder of the division between the two values. Make it clear that the denominator value cannot be 0.\n",
    "\n"
   ]
  },
  {
   "cell_type": "code",
   "execution_count": 23,
   "metadata": {},
   "outputs": [],
   "source": [
    "value_1 = float(input(\"Primeiro número:\"))\n",
    "value_2 = float(input(\"Segundo número:\"))\n",
    "if value_1 == 0 or value_2 == 0:\n",
    "    print(\"Inválido\")"
   ]
  },
  {
   "cell_type": "code",
   "execution_count": 24,
   "metadata": {},
   "outputs": [
    {
     "name": "stdout",
     "output_type": "stream",
     "text": [
      "3.0\n"
     ]
    }
   ],
   "source": [
    "print(value_1%value_2)"
   ]
  },
  {
   "cell_type": "markdown",
   "metadata": {},
   "source": [
    "9 - Crie um código que solicita 3 notas de um estudante e imprima a média das notas.\n",
    "\n",
    "9 - Create a code that requests 3 grades from a student and prints the average of the grades.\n",
    "\n"
   ]
  },
  {
   "cell_type": "code",
   "execution_count": 25,
   "metadata": {},
   "outputs": [],
   "source": [
    "value_1 = float(input(\"1º nota:\"))\n",
    "value_2 = float(input(\"2º nota:\"))\n",
    "value_3 = float(input(\"3º nota:\"))"
   ]
  },
  {
   "cell_type": "code",
   "execution_count": 26,
   "metadata": {},
   "outputs": [
    {
     "name": "stdout",
     "output_type": "stream",
     "text": [
      "7.666666666666667\n"
     ]
    }
   ],
   "source": [
    "print((value_1+value_2+value_3)/3)"
   ]
  },
  {
   "cell_type": "markdown",
   "metadata": {},
   "source": [
    "10 - Crie um código que calcule e imprima a média ponderada dos números 5, 12, 20 e 15 com pesos respectivamente iguais a 1, 2, 3 e 4.\n",
    "\n",
    "10 - Create a code that calculates and prints the weighted average of the numbers 5, 12, 20 and 15 with weights respectively equal to 1, 2, 3 and 4."
   ]
  },
  {
   "cell_type": "code",
   "execution_count": 42,
   "metadata": {},
   "outputs": [],
   "source": [
    "nota = int(input(\"Quantos numeros deseja calcular? \"))"
   ]
  },
  {
   "cell_type": "code",
   "execution_count": 43,
   "metadata": {},
   "outputs": [],
   "source": [
    "numerador = 0\n",
    "denominador = 0"
   ]
  },
  {
   "cell_type": "code",
   "execution_count": 44,
   "metadata": {},
   "outputs": [],
   "source": [
    "for i in range(nota):\n",
    "    nota = float(input(\"informa o proximo numero: \"))\n",
    "    peso = int(input(\"informa o proximo peso: \"))\n",
    "\n",
    "    numerador = numerador + nota*peso\n",
    "    denominador = denominador + peso"
   ]
  },
  {
   "cell_type": "code",
   "execution_count": 45,
   "metadata": {},
   "outputs": [
    {
     "name": "stdout",
     "output_type": "stream",
     "text": [
      "A media é:  14.9\n"
     ]
    }
   ],
   "source": [
    "print(\"A media é: \", numerador/denominador)"
   ]
  },
  {
   "cell_type": "markdown",
   "metadata": {},
   "source": [
    "Extra"
   ]
  },
  {
   "cell_type": "code",
   "execution_count": null,
   "metadata": {},
   "outputs": [],
   "source": [
    "value_1 = float(input(\"Primeiro número:\"))\n",
    "value_2 = float(input(\"Segundo número:\"))\n",
    "operação = input(\"Digite a operação a realizar (+,-,* ou /):\")"
   ]
  },
  {
   "cell_type": "code",
   "execution_count": null,
   "metadata": {},
   "outputs": [],
   "source": [
    "if operação == \"+\":\n",
    "    resultado = a + b\n",
    "elif operação == \"-\":\n",
    "    resultado = a - b\n",
    "elif operação == \"*\":\n",
    "    resultado = a * b\n",
    "elif operação == \"/\":\n",
    "    resultado = a / b\n",
    "else:\n",
    "    print(\"Operação inválida!\")\n",
    "    resultado = 0"
   ]
  },
  {
   "cell_type": "code",
   "execution_count": null,
   "metadata": {},
   "outputs": [],
   "source": [
    "print(\"Resultado: \", resultado)"
   ]
  }
 ],
 "metadata": {
  "kernelspec": {
   "display_name": "Python 3",
   "language": "python",
   "name": "python3"
  },
  "language_info": {
   "codemirror_mode": {
    "name": "ipython",
    "version": 3
   },
   "file_extension": ".py",
   "mimetype": "text/x-python",
   "name": "python",
   "nbconvert_exporter": "python",
   "pygments_lexer": "ipython3",
   "version": "3.9.9"
  },
  "orig_nbformat": 4
 },
 "nbformat": 4,
 "nbformat_minor": 2
}
